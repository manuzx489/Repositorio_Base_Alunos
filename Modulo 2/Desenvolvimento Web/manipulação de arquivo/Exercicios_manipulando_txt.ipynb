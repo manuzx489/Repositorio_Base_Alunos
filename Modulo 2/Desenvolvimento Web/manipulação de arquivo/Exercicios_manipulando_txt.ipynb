{
  "cells": [
    {
      "cell_type": "markdown",
      "id": "ec2b2ae4",
      "metadata": {
        "id": "ec2b2ae4"
      },
      "source": [
        "### Exercício 1: Criando e escrevendo em um arquivo\n",
        "\n",
        "Crie um arquivo chamado meu_arquivo.txt e escreva nele a seguinte frase: \"Estou criando esse arquivo de texto em Python!\""
      ]
    },
    {
      "cell_type": "code",
      "execution_count": 3,
      "id": "cffe2a6d",
      "metadata": {
        "id": "cffe2a6d"
      },
      "outputs": [],
      "source": [
        "with open('meu_arquivo.txt', 'w', encoding=\"utf-8\") as arquivo:\n",
        "    arquivo.write(\"Estou criando esse arquivo de texto em Python!\")"
      ]
    },
    {
      "cell_type": "markdown",
      "id": "4b3f7a89",
      "metadata": {
        "id": "4b3f7a89"
      },
      "source": [
        "### Exercício 2: Lendo o conteúdo do arquivo\n",
        "\n",
        "\n",
        "Agora leia o conteúdo do arquivo meu_arquivo.txt que você criou no exercício anterior e mostre-o na tela."
      ]
    },
    {
      "cell_type": "code",
      "execution_count": 8,
      "id": "e5edc612",
      "metadata": {
        "id": "e5edc612"
      },
      "outputs": [
        {
          "name": "stdout",
          "output_type": "stream",
          "text": [
            "Estou criando esse arquivo de texto em Python!\n",
            "Agora estou apendendo a manipular arquivos\n",
            "\n"
          ]
        }
      ],
      "source": [
        "with open('meu_arquivo.txt', 'r', encoding=\"utf-8\") as arquivo:\n",
        "    conteudo = arquivo.read( )\n",
        "    print(conteudo)"
      ]
    },
    {
      "cell_type": "markdown",
      "id": "8184fdba",
      "metadata": {
        "id": "8184fdba"
      },
      "source": [
        "### Exercício 3: Adicionando mais texto\n",
        "\n",
        "Adicione a seguinte frase em uma nova linha do mesmo arquivo: \"Agora estou aprendendo a manipular arquivos!\""
      ]
    },
    {
      "cell_type": "code",
      "execution_count": 6,
      "id": "723d1e8d",
      "metadata": {
        "id": "723d1e8d"
      },
      "outputs": [],
      "source": [
        "with open('meu_arquivo.txt', 'a') as f:\n",
        "    f.write(\"Agora estou apendendo a manipular arquivos\\n\")"
      ]
    },
    {
      "cell_type": "markdown",
      "id": "82c4eb19",
      "metadata": {
        "id": "82c4eb19"
      },
      "source": [
        "### Exercício 4: Contando linhas\n",
        "\n",
        "Crie um programa que conta quantas linhas tem o arquivo meu_arquivo.txt e mostra o resultado."
      ]
    },
    {
      "cell_type": "code",
      "execution_count": null,
      "id": "fd757b5e",
      "metadata": {
        "id": "fd757b5e"
      },
      "outputs": [
        {
          "name": "stdout",
          "output_type": "stream",
          "text": [
            "2\n"
          ]
        }
      ],
      "source": [
        "with open('meu_arquivo.txt', 'r' ) as aqruivo:\n",
        "    conteudo = aqruivo.readlines()\n",
        "    print(len(conteudo))"
      ]
    },
    {
      "cell_type": "markdown",
      "id": "6bc0b78f",
      "metadata": {
        "id": "6bc0b78f"
      },
      "source": [
        "### Exercício 5: Lista de compras\n",
        "\n",
        "Crie um arquivo chamado compras.txt e escreva nele, cada um em uma linha, os seguintes itens: \"Maçã\", \"Banana\", \"Leite\", \"Pão\"."
      ]
    },
    {
      "cell_type": "code",
      "execution_count": 6,
      "id": "97bb5660",
      "metadata": {
        "id": "97bb5660"
      },
      "outputs": [],
      "source": [
        "with open('compras.txt', 'w', encoding=\"utf-8\") as arquivo:\n",
        "    arquivo.write(\"Maçã\\n\")\n",
        "    arquivo.write(\"Banana\\n\")\n",
        "    arquivo.write(\"Leite\\n\")\n",
        "    arquivo.write(\"Pão\\n\")"
      ]
    },
    {
      "cell_type": "markdown",
      "id": "71cf0898",
      "metadata": {
        "id": "71cf0898"
      },
      "source": [
        "### Exercício 6: Lendo linhas específicas\n",
        "\n",
        "\n",
        "Leia o arquivo compras.txt e mostre apenas o segundo item da lista (Banana)."
      ]
    },
    {
      "cell_type": "code",
      "execution_count": 15,
      "id": "6d705e94",
      "metadata": {
        "id": "6d705e94"
      },
      "outputs": [
        {
          "name": "stdout",
          "output_type": "stream",
          "text": [
            "a\n"
          ]
        }
      ],
      "source": [
        "with open('compras.txt', 'r', encoding=\"utf-8\") as arquivo:\n",
        "    conteudo = arquivo.read( )\n",
        "    print(conteudo[1])"
      ]
    },
    {
      "cell_type": "markdown",
      "id": "bc372146",
      "metadata": {
        "id": "bc372146"
      },
      "source": [
        "### Exercício 7: Adicionando itens\n",
        "\n",
        "Peça ao usuário para digitar um novo item e adicione-o ao final da lista no arquivo compras.txt."
      ]
    },
    {
      "cell_type": "code",
      "execution_count": 10,
      "id": "a6e7617c",
      "metadata": {
        "id": "a6e7617c"
      },
      "outputs": [
        {
          "name": "stdout",
          "output_type": "stream",
          "text": [
            "tomate\n"
          ]
        }
      ],
      "source": [
        "with open('compras.txt', 'a') as f:\n",
        "    intem = input(\"Digite um item novo?\\n\")\n",
        "    f.write(intem)\n",
        "\n",
        "print(conteudo)"
      ]
    },
    {
      "cell_type": "markdown",
      "id": "b434b909",
      "metadata": {
        "id": "b434b909"
      },
      "source": [
        "### Exercício 8: Copiando arquivos\n",
        "\n",
        "Crie um programa que copia todo o conteúdo de meu_arquivo.txt para um novo arquivo chamado copia.txt."
      ]
    },
    {
      "cell_type": "code",
      "execution_count": null,
      "id": "3aab9832",
      "metadata": {
        "id": "3aab9832"
      },
      "outputs": [],
      "source": [
        "with open('meu_arquivo.txt', 'r', encoding=\"utf-8\" ) as f:\n",
        "    conteudo = f.read()\n",
        "\n",
        "\n",
        "\n",
        "with open ('copia.txt', 'w', encoding=\"utf-8\") as f:\n",
        "    f.write(conteudo)\n",
        "\n"
      ]
    },
    {
      "cell_type": "markdown",
      "id": "b24e8386",
      "metadata": {
        "id": "b24e8386"
      },
      "source": [
        "### Exercício 9: Contando palavras\n",
        "\n",
        "Crie um programa que conta quantas palavras tem no arquivo meu_arquivo.txt (considere que as palavras são separadas por espaços)."
      ]
    },
    {
      "cell_type": "code",
      "execution_count": 18,
      "id": "896d7462",
      "metadata": {
        "id": "896d7462"
      },
      "outputs": [
        {
          "name": "stdout",
          "output_type": "stream",
          "text": [
            "14\n"
          ]
        }
      ],
      "source": [
        "with open('meu_arquivo.txt', 'r', encoding=\"utf-8\" ) as f:\n",
        "    conteudo = f.read()\n",
        "\n",
        "\n",
        "print(len(conteudo.split()))"
      ]
    },
    {
      "cell_type": "markdown",
      "id": "3bbe37c9",
      "metadata": {
        "id": "3bbe37c9"
      },
      "source": [
        "### Exercício 10: Juntando arquivos\n",
        "\n",
        "\n",
        "Crie um programa que lê o conteúdo de meu_arquivo.txt e compras.txt e cria um novo arquivo chamado juntado.txt com o conteúdo dos dois arquivos, um após o outro."
      ]
    },
    {
      "cell_type": "code",
      "execution_count": 19,
      "id": "c932924e",
      "metadata": {
        "id": "c932924e"
      },
      "outputs": [],
      "source": [
        "with open('meu_arquivo.txt', 'r', encoding=\"utf-8\" ) as f:\n",
        "    conteudo1 = f.read()\n",
        "\n",
        "with open('compras.txt', 'r', encoding=\"utf-8\" ) as f:\n",
        "    conteudo2 = f.read()\n",
        "\n",
        "\n",
        "with open('juntado.txt', 'w', encoding=\"utf-8\" ) as f:\n",
        "    f.write(conteudo1)\n",
        "    f.write(conteudo2)"
      ]
    }
  ],
  "metadata": {
    "colab": {
      "provenance": []
    },
    "kernelspec": {
      "display_name": "Python 3",
      "language": "python",
      "name": "python3"
    },
    "language_info": {
      "codemirror_mode": {
        "name": "ipython",
        "version": 3
      },
      "file_extension": ".py",
      "mimetype": "text/x-python",
      "name": "python",
      "nbconvert_exporter": "python",
      "pygments_lexer": "ipython3",
      "version": "3.13.2"
    }
  },
  "nbformat": 4,
  "nbformat_minor": 5
}
